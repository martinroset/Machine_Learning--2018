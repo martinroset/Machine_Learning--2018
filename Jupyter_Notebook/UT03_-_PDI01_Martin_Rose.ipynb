{
 "cells": [
  {
   "cell_type": "code",
   "execution_count": 41,
   "metadata": {},
   "outputs": [],
   "source": [
    "import pandas as pd\n",
    "import os"
   ]
  },
  {
   "cell_type": "code",
   "execution_count": 42,
   "metadata": {},
   "outputs": [
    {
     "name": "stdout",
     "output_type": "stream",
     "text": [
      "C:\\Users\\usuario\\Desktop\\Machine_Learning--2018\\Jupyter_Notebook\n"
     ]
    },
    {
     "data": {
      "text/plain": [
       "['.ipynb_checkpoints',\n",
       " 'Dataset_Iris_UCI.csv',\n",
       " 'gender_submission.csv',\n",
       " 'iris.data',\n",
       " 'test.csv',\n",
       " 'titanic.csv',\n",
       " 'train.csv',\n",
       " 'UT01_-_PDI02_-_Ej01_Martin_Rose.ipynb',\n",
       " 'UT02_-_PDI04_-_Ej_01_-_Martín_Rose.ipynb',\n",
       " 'UT02_-_PDI04_-_Ej_02_-_Martín_Rose.ipynb',\n",
       " 'UT03_-_PDI01_-_Martin_Rose.xlsx',\n",
       " 'UT03_-_PDI01_Martin_Rose.ipynb']"
      ]
     },
     "execution_count": 42,
     "metadata": {},
     "output_type": "execute_result"
    }
   ],
   "source": [
    "unDir = os.getcwd()\n",
    "print(unDir)\n",
    "os.listdir('.')\n"
   ]
  },
  {
   "cell_type": "code",
   "execution_count": 44,
   "metadata": {},
   "outputs": [
    {
     "name": "stdout",
     "output_type": "stream",
     "text": [
      "['Sheet']\n",
      "Empty DataFrame\n",
      "Columns: [2018-09-21 08:48:24.440000]\n",
      "Index: []\n",
      "DatetimeIndex(['2018-09-21 08:48:24.440000'], dtype='datetime64[ns]', freq=None)\n"
     ]
    }
   ],
   "source": [
    "#unArchivo = 'UT03_-_PDI01_-_Martin_Rose.xlsx'\n",
    "#df = pd.read_excel(unArchivo)\n",
    "df = pd.read_excel('UT03_-_PDI01_-_Martin_Rose.xlsx')\n",
    "unArchivo = pd.ExcelFile('UT03_-_PDI01_-_Martin_Rose.xlsx')\n",
    "\n",
    "# Print the sheet names\n",
    "print(unArchivo.sheet_names)\n",
    "print(unArchivo.parse('Sheet'))\n",
    "# Load a sheet into a DataFrame by name: df1\n",
    "df1 = unArchivo.parse()\n",
    "print(df1.columns)\n"
   ]
  },
  {
   "cell_type": "code",
   "execution_count": null,
   "metadata": {},
   "outputs": [],
   "source": []
  }
 ],
 "metadata": {
  "kernelspec": {
   "display_name": "Python 3",
   "language": "python",
   "name": "python3"
  },
  "language_info": {
   "codemirror_mode": {
    "name": "ipython",
    "version": 3
   },
   "file_extension": ".py",
   "mimetype": "text/x-python",
   "name": "python",
   "nbconvert_exporter": "python",
   "pygments_lexer": "ipython3",
   "version": "3.6.6"
  }
 },
 "nbformat": 4,
 "nbformat_minor": 2
}
